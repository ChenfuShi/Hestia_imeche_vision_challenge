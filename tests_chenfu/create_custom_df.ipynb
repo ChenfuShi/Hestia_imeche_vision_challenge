{
 "cells": [
  {
   "cell_type": "code",
   "execution_count": 16,
   "metadata": {},
   "outputs": [],
   "source": [
    "import pandas as pd\n",
    "import json\n",
    "import os\n",
    "import numpy as np"
   ]
  },
  {
   "cell_type": "code",
   "execution_count": 11,
   "metadata": {},
   "outputs": [],
   "source": [
    "labels_dir = \"C:\\\\Users\\\\MDEFSCS4\\\\Documents\\\\GitHub\\\\Hestia_imeche_vision_challenge\\\\data\\\\screened_generated\\\\labelme\\\\\"\n",
    "labels = os.listdir(labels_dir)"
   ]
  },
  {
   "cell_type": "code",
   "execution_count": 41,
   "metadata": {},
   "outputs": [],
   "source": [
    "df = pd.DataFrame(columns=[\"image\"])"
   ]
  },
  {
   "cell_type": "code",
   "execution_count": 42,
   "metadata": {},
   "outputs": [],
   "source": [
    "for img in labels:\n",
    "    data = json.load(open(labels_dir + img))\n",
    "    coords = np.array(data[\"shapes\"][0][\"points\"]).flatten()\n",
    "    image = os.path.basename(data[\"imagePath\"])\n",
    "    df = df.append({\n",
    "         \"point_a\": coords[0],\n",
    "         \"point_b\": coords[1],\n",
    "         \"point_c\": coords[2],\n",
    "         \"point_d\": coords[3],\n",
    "         \"image\":  image\n",
    "          }, ignore_index=True)"
   ]
  },
  {
   "cell_type": "code",
   "execution_count": 46,
   "metadata": {},
   "outputs": [],
   "source": [
    "df.to_csv(\"custom_data_1.csv\")"
   ]
  },
  {
   "cell_type": "code",
   "execution_count": null,
   "metadata": {},
   "outputs": [],
   "source": []
  },
  {
   "cell_type": "code",
   "execution_count": null,
   "metadata": {},
   "outputs": [],
   "source": []
  }
 ],
 "metadata": {
  "kernelspec": {
   "display_name": "Python 3",
   "language": "python",
   "name": "python3"
  },
  "language_info": {
   "codemirror_mode": {
    "name": "ipython",
    "version": 3
   },
   "file_extension": ".py",
   "mimetype": "text/x-python",
   "name": "python",
   "nbconvert_exporter": "python",
   "pygments_lexer": "ipython3",
   "version": "3.7.8"
  }
 },
 "nbformat": 4,
 "nbformat_minor": 4
}
