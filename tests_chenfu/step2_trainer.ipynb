{
 "cells": [
  {
   "cell_type": "code",
   "execution_count": 1,
   "metadata": {},
   "outputs": [],
   "source": [
    "import os\n",
    "os.chdir(\"/mnt/iusers01/jw01/mdefscs4/ra_challenge/hestia/Hestia_imeche_vision_challenge/NN_recognition_train\")"
   ]
  },
  {
   "cell_type": "code",
   "execution_count": 3,
   "metadata": {},
   "outputs": [],
   "source": [
    "import tensorflow as tf\n",
    "import tensorflow.keras as k\n",
    "import os\n",
    "import pandas as pd\n",
    "import numpy as np\n",
    "import random\n",
    "\n",
    "from dataset.secondary_generator import retrieve_tf_dataset_secondary, secondary_generator\n",
    "\n",
    "IMAGE_SIZE = 224"
   ]
  },
  {
   "cell_type": "code",
   "execution_count": 66,
   "metadata": {},
   "outputs": [],
   "source": [
    "def _inverted_res_block(inputs, filters, expansion, stride, add = True):\n",
    "    x = inputs\n",
    "    # expand\n",
    "    x = tf.keras.layers.Conv2D(filters * expansion, kernel_size=1, padding='same', activation=None, use_bias=False)(x)\n",
    "    x = tf.keras.layers.BatchNormalization()(x)\n",
    "    x = tf.keras.layers.ReLU(6.)(x)\n",
    "    # depthwise conv\n",
    "    x = tf.keras.layers.DepthwiseConv2D(kernel_size=3, strides = stride, padding='same', activation=None, use_bias=False)(x)\n",
    "    x = tf.keras.layers.BatchNormalization()(x)\n",
    "    x = tf.keras.layers.ReLU(6.)(x)\n",
    "    # project\n",
    "    x = tf.keras.layers.Conv2D(filters, kernel_size=1, padding='same', activation=None, use_bias=False)(x)\n",
    "    x = tf.keras.layers.BatchNormalization()(x)\n",
    "    if stride == 1 and add:\n",
    "        x = tf.keras.layers.Add()([inputs, x])\n",
    "        return x\n",
    "    else:\n",
    "        return x\n",
    "\n",
    "def model_to_train(inputs):\n",
    "    x = tf.keras.layers.Conv2D(32, kernel_size=3, strides = 2, padding='same', activation=None, use_bias=False)(inputs)\n",
    "    x = tf.keras.layers.BatchNormalization()(x)\n",
    "    x = tf.keras.layers.ReLU(6.)(x)\n",
    "    x = _inverted_res_block(x, filters=24, expansion=3, stride=2,)\n",
    "    x = _inverted_res_block(x, filters=48, expansion=6, stride=2,)\n",
    "    x = _inverted_res_block(x, filters=48, expansion=6, stride=1,)\n",
    "    x = _inverted_res_block(x, filters=96, expansion=6, stride=2,)\n",
    "    x = _inverted_res_block(x, filters=96, expansion=6, stride=1,)\n",
    "    x = tf.keras.layers.Conv2D(300, kernel_size=1, padding='same', activation=None, use_bias=False)(x)\n",
    "    x = tf.keras.layers.BatchNormalization()(x)\n",
    "    x = tf.keras.layers.ReLU(6.)(x)\n",
    "    return x\n",
    "\n",
    "def retrieve_mobilenet_model():\n",
    "    preprocess_input = tf.keras.applications.mobilenet_v2.preprocess_input\n",
    "\n",
    "    inputs = tf.keras.Input(shape=(IMAGE_SIZE, IMAGE_SIZE, 3))\n",
    "    x = preprocess_input(inputs)\n",
    "    x = tf.keras.applications.MobileNetV2(include_top = False, weights = \"imagenet\", input_shape = (224,224,3))(x)\n",
    "    # x = tf.keras.layers.Flatten()(x)\n",
    "    x = tf.keras.layers.GlobalAveragePooling2D()(x)\n",
    "    x = tf.keras.layers.Dense(1000, activation = None, use_bias = False)(x)\n",
    "    x = tf.keras.layers.BatchNormalization()(x)\n",
    "    x = tf.keras.layers.ReLU(6.)(x)\n",
    "    x = tf.keras.layers.Dropout(0.2)(x)\n",
    "    letter = tf.keras.layers.Dense(36, activation = \"sigmoid\", name = \"letter\")(x)\n",
    "    colour = tf.keras.layers.Dense(3, name = \"colour\")(x)\n",
    "    model = tf.keras.Model(inputs, [letter, colour])\n",
    "    return model"
   ]
  },
  {
   "cell_type": "code",
   "execution_count": 59,
   "metadata": {},
   "outputs": [],
   "source": [
    "tf_data = retrieve_tf_dataset_secondary()"
   ]
  },
  {
   "cell_type": "code",
   "execution_count": 67,
   "metadata": {},
   "outputs": [],
   "source": [
    "model = retrieve_mobilenet_model()"
   ]
  },
  {
   "cell_type": "code",
   "execution_count": 68,
   "metadata": {},
   "outputs": [],
   "source": [
    "model.compile(optimizer=tf.keras.optimizers.Adam(lr=0.005),\n",
    "                loss={\"letter\":tf.keras.losses.SparseCategoricalCrossentropy(from_logits=True), \"colour\":\"mse\"},\n",
    "                metrics={\"letter\":\"accuracy\",\"colour\":[\"mae\",\"mse\"]}, loss_weights = {\"letter\":1,\"colour\":1})"
   ]
  },
  {
   "cell_type": "code",
   "execution_count": 69,
   "metadata": {},
   "outputs": [
    {
     "name": "stdout",
     "output_type": "stream",
     "text": [
      "Model: \"model_9\"\n",
      "__________________________________________________________________________________________________\n",
      "Layer (type)                    Output Shape         Param #     Connected to                     \n",
      "==================================================================================================\n",
      "input_26 (InputLayer)           [(None, 224, 224, 3) 0                                            \n",
      "__________________________________________________________________________________________________\n",
      "tf.math.truediv_15 (TFOpLambda) (None, 224, 224, 3)  0           input_26[0][0]                   \n",
      "__________________________________________________________________________________________________\n",
      "tf.math.subtract_15 (TFOpLambda (None, 224, 224, 3)  0           tf.math.truediv_15[0][0]         \n",
      "__________________________________________________________________________________________________\n",
      "mobilenetv2_1.00_224 (Functiona (None, 7, 7, 1280)   2257984     tf.math.subtract_15[0][0]        \n",
      "__________________________________________________________________________________________________\n",
      "global_average_pooling2d_9 (Glo (None, 1280)         0           mobilenetv2_1.00_224[0][0]       \n",
      "__________________________________________________________________________________________________\n",
      "dense_9 (Dense)                 (None, 1000)         1280000     global_average_pooling2d_9[0][0] \n",
      "__________________________________________________________________________________________________\n",
      "batch_normalization_40 (BatchNo (None, 1000)         4000        dense_9[0][0]                    \n",
      "__________________________________________________________________________________________________\n",
      "re_lu_31 (ReLU)                 (None, 1000)         0           batch_normalization_40[0][0]     \n",
      "__________________________________________________________________________________________________\n",
      "dropout_1 (Dropout)             (None, 1000)         0           re_lu_31[0][0]                   \n",
      "__________________________________________________________________________________________________\n",
      "letter (Dense)                  (None, 36)           36036       dropout_1[0][0]                  \n",
      "__________________________________________________________________________________________________\n",
      "colour (Dense)                  (None, 3)            3003        dropout_1[0][0]                  \n",
      "==================================================================================================\n",
      "Total params: 3,581,023\n",
      "Trainable params: 3,544,911\n",
      "Non-trainable params: 36,112\n",
      "__________________________________________________________________________________________________\n"
     ]
    }
   ],
   "source": [
    "model.summary() "
   ]
  },
  {
   "cell_type": "code",
   "execution_count": 80,
   "metadata": {},
   "outputs": [
    {
     "name": "stdout",
     "output_type": "stream",
     "text": [
      "Epoch 1/100\n",
      "100/100 [==============================] - 37s 372ms/step - loss: 0.4242 - letter_loss: 0.3235 - colour_loss: 0.1007 - letter_accuracy: 0.8950 - colour_mae: 0.2865 - colour_mse: 0.1007\n",
      "Epoch 2/100\n",
      "100/100 [==============================] - 37s 369ms/step - loss: 0.4010 - letter_loss: 0.3008 - colour_loss: 0.1002 - letter_accuracy: 0.9035 - colour_mae: 0.2861 - colour_mse: 0.1002\n",
      "Epoch 3/100\n",
      "100/100 [==============================] - 37s 371ms/step - loss: 0.4200 - letter_loss: 0.3196 - colour_loss: 0.1004 - letter_accuracy: 0.8968 - colour_mae: 0.2868 - colour_mse: 0.1004\n",
      "Epoch 4/100\n",
      "100/100 [==============================] - 37s 373ms/step - loss: 0.4418 - letter_loss: 0.3411 - colour_loss: 0.1007 - letter_accuracy: 0.8921 - colour_mae: 0.2861 - colour_mse: 0.1007\n",
      "Epoch 5/100\n",
      "100/100 [==============================] - 37s 368ms/step - loss: 0.4411 - letter_loss: 0.3398 - colour_loss: 0.1012 - letter_accuracy: 0.8877 - colour_mae: 0.2870 - colour_mse: 0.1012\n",
      "Epoch 6/100\n",
      "100/100 [==============================] - 37s 370ms/step - loss: 0.3991 - letter_loss: 0.2984 - colour_loss: 0.1007 - letter_accuracy: 0.9050 - colour_mae: 0.2863 - colour_mse: 0.1007\n",
      "Epoch 7/100\n",
      "100/100 [==============================] - 37s 372ms/step - loss: 0.4034 - letter_loss: 0.3024 - colour_loss: 0.1010 - letter_accuracy: 0.9032 - colour_mae: 0.2871 - colour_mse: 0.1010\n",
      "Epoch 8/100\n",
      "100/100 [==============================] - 37s 367ms/step - loss: 0.4225 - letter_loss: 0.3223 - colour_loss: 0.1003 - letter_accuracy: 0.8991 - colour_mae: 0.2864 - colour_mse: 0.1003\n",
      "Epoch 9/100\n",
      "100/100 [==============================] - 37s 367ms/step - loss: 0.4245 - letter_loss: 0.3239 - colour_loss: 0.1007 - letter_accuracy: 0.8985 - colour_mae: 0.2858 - colour_mse: 0.1007\n",
      "Epoch 10/100\n",
      "100/100 [==============================] - 37s 371ms/step - loss: 0.4343 - letter_loss: 0.3326 - colour_loss: 0.1017 - letter_accuracy: 0.8915 - colour_mae: 0.2875 - colour_mse: 0.1017\n",
      "Epoch 11/100\n",
      "100/100 [==============================] - 37s 370ms/step - loss: 0.4159 - letter_loss: 0.3159 - colour_loss: 0.1000 - letter_accuracy: 0.9001 - colour_mae: 0.2858 - colour_mse: 0.1000\n",
      "Epoch 12/100\n",
      "100/100 [==============================] - 37s 370ms/step - loss: 0.4325 - letter_loss: 0.3322 - colour_loss: 0.1003 - letter_accuracy: 0.8986 - colour_mae: 0.2865 - colour_mse: 0.1003\n",
      "Epoch 13/100\n",
      "100/100 [==============================] - 37s 375ms/step - loss: 0.4337 - letter_loss: 0.3333 - colour_loss: 0.1003 - letter_accuracy: 0.8972 - colour_mae: 0.2866 - colour_mse: 0.1003\n",
      "Epoch 14/100\n",
      "100/100 [==============================] - 38s 378ms/step - loss: 0.4188 - letter_loss: 0.3180 - colour_loss: 0.1007 - letter_accuracy: 0.8992 - colour_mae: 0.2860 - colour_mse: 0.1007\n",
      "Epoch 15/100\n",
      "100/100 [==============================] - 38s 376ms/step - loss: 0.4086 - letter_loss: 0.3070 - colour_loss: 0.1016 - letter_accuracy: 0.9010 - colour_mae: 0.2875 - colour_mse: 0.1016\n",
      "Epoch 16/100\n",
      "100/100 [==============================] - 37s 373ms/step - loss: 0.3944 - letter_loss: 0.2940 - colour_loss: 0.1005 - letter_accuracy: 0.9036 - colour_mae: 0.2863 - colour_mse: 0.1005\n",
      "Epoch 17/100\n",
      "100/100 [==============================] - 37s 368ms/step - loss: 0.4128 - letter_loss: 0.3121 - colour_loss: 0.1007 - letter_accuracy: 0.9045 - colour_mae: 0.2868 - colour_mse: 0.1007\n",
      "Epoch 18/100\n",
      "100/100 [==============================] - 37s 369ms/step - loss: 0.4250 - letter_loss: 0.3241 - colour_loss: 0.1008 - letter_accuracy: 0.8995 - colour_mae: 0.2868 - colour_mse: 0.1008\n",
      "Epoch 19/100\n",
      "100/100 [==============================] - 37s 374ms/step - loss: 0.4206 - letter_loss: 0.3202 - colour_loss: 0.1003 - letter_accuracy: 0.8976 - colour_mae: 0.2857 - colour_mse: 0.1003\n",
      "Epoch 20/100\n",
      "100/100 [==============================] - 37s 373ms/step - loss: 0.4171 - letter_loss: 0.3160 - colour_loss: 0.1011 - letter_accuracy: 0.8978 - colour_mae: 0.2873 - colour_mse: 0.1011\n",
      "Epoch 21/100\n",
      "100/100 [==============================] - 37s 369ms/step - loss: 0.3862 - letter_loss: 0.2860 - colour_loss: 0.1001 - letter_accuracy: 0.9110 - colour_mae: 0.2861 - colour_mse: 0.1001\n",
      "Epoch 22/100\n",
      "100/100 [==============================] - 37s 373ms/step - loss: 0.4220 - letter_loss: 0.3217 - colour_loss: 0.1003 - letter_accuracy: 0.8990 - colour_mae: 0.2866 - colour_mse: 0.1003\n",
      "Epoch 23/100\n",
      "100/100 [==============================] - 37s 372ms/step - loss: 0.4119 - letter_loss: 0.3115 - colour_loss: 0.1003 - letter_accuracy: 0.9034 - colour_mae: 0.2862 - colour_mse: 0.1003\n",
      "Epoch 24/100\n",
      "100/100 [==============================] - 37s 374ms/step - loss: 0.4256 - letter_loss: 0.3241 - colour_loss: 0.1015 - letter_accuracy: 0.8979 - colour_mae: 0.2873 - colour_mse: 0.1015\n",
      "Epoch 25/100\n",
      "100/100 [==============================] - 37s 371ms/step - loss: 0.3843 - letter_loss: 0.2836 - colour_loss: 0.1007 - letter_accuracy: 0.9092 - colour_mae: 0.2866 - colour_mse: 0.1007\n",
      "Epoch 26/100\n",
      "100/100 [==============================] - 37s 367ms/step - loss: 0.3826 - letter_loss: 0.2821 - colour_loss: 0.1005 - letter_accuracy: 0.9121 - colour_mae: 0.2864 - colour_mse: 0.1005\n",
      "Epoch 27/100\n",
      "100/100 [==============================] - 37s 372ms/step - loss: 0.4062 - letter_loss: 0.3059 - colour_loss: 0.1003 - letter_accuracy: 0.9053 - colour_mae: 0.2866 - colour_mse: 0.1003\n",
      "Epoch 28/100\n",
      "100/100 [==============================] - 37s 373ms/step - loss: 0.3959 - letter_loss: 0.2955 - colour_loss: 0.1004 - letter_accuracy: 0.9079 - colour_mae: 0.2858 - colour_mse: 0.1004\n",
      "Epoch 29/100\n",
      "100/100 [==============================] - 37s 370ms/step - loss: 0.4110 - letter_loss: 0.3094 - colour_loss: 0.1016 - letter_accuracy: 0.8989 - colour_mae: 0.2874 - colour_mse: 0.1016\n",
      "Epoch 30/100\n",
      "100/100 [==============================] - 36s 364ms/step - loss: 0.3989 - letter_loss: 0.2985 - colour_loss: 0.1004 - letter_accuracy: 0.9033 - colour_mae: 0.2860 - colour_mse: 0.1004\n",
      "Epoch 31/100\n",
      "100/100 [==============================] - 37s 366ms/step - loss: 0.3849 - letter_loss: 0.2840 - colour_loss: 0.1008 - letter_accuracy: 0.9119 - colour_mae: 0.2871 - colour_mse: 0.1008\n",
      "Epoch 32/100\n",
      "100/100 [==============================] - 37s 374ms/step - loss: 0.4219 - letter_loss: 0.3217 - colour_loss: 0.1002 - letter_accuracy: 0.8996 - colour_mae: 0.2864 - colour_mse: 0.1002\n",
      "Epoch 33/100\n",
      "100/100 [==============================] - 37s 371ms/step - loss: 0.4059 - letter_loss: 0.3054 - colour_loss: 0.1005 - letter_accuracy: 0.9061 - colour_mae: 0.2859 - colour_mse: 0.1005\n",
      "Epoch 34/100\n",
      "100/100 [==============================] - 37s 367ms/step - loss: 0.4235 - letter_loss: 0.3220 - colour_loss: 0.1015 - letter_accuracy: 0.8950 - colour_mae: 0.2879 - colour_mse: 0.1015\n",
      "Epoch 35/100\n",
      "100/100 [==============================] - 37s 373ms/step - loss: 0.4016 - letter_loss: 0.3014 - colour_loss: 0.1001 - letter_accuracy: 0.9072 - colour_mae: 0.2861 - colour_mse: 0.1001\n",
      "Epoch 36/100\n",
      "100/100 [==============================] - 37s 371ms/step - loss: 0.3816 - letter_loss: 0.2815 - colour_loss: 0.1001 - letter_accuracy: 0.9150 - colour_mae: 0.2864 - colour_mse: 0.1001\n",
      "Epoch 37/100\n",
      "100/100 [==============================] - 37s 375ms/step - loss: 0.3981 - letter_loss: 0.2977 - colour_loss: 0.1004 - letter_accuracy: 0.9080 - colour_mae: 0.2865 - colour_mse: 0.1004\n",
      "Epoch 38/100\n",
      "100/100 [==============================] - 37s 374ms/step - loss: 0.4295 - letter_loss: 0.3289 - colour_loss: 0.1006 - letter_accuracy: 0.8947 - colour_mae: 0.2862 - colour_mse: 0.1006\n",
      "Epoch 39/100\n",
      "100/100 [==============================] - 37s 375ms/step - loss: 0.3989 - letter_loss: 0.2974 - colour_loss: 0.1014 - letter_accuracy: 0.9031 - colour_mae: 0.2877 - colour_mse: 0.1014\n",
      "Epoch 40/100\n",
      "100/100 [==============================] - 37s 373ms/step - loss: 0.3915 - letter_loss: 0.2915 - colour_loss: 0.1000 - letter_accuracy: 0.9091 - colour_mae: 0.2862 - colour_mse: 0.1000\n",
      "Epoch 41/100\n",
      "100/100 [==============================] - 37s 374ms/step - loss: 0.3863 - letter_loss: 0.2861 - colour_loss: 0.1002 - letter_accuracy: 0.9107 - colour_mae: 0.2862 - colour_mse: 0.1002\n",
      "Epoch 42/100\n",
      "100/100 [==============================] - 38s 376ms/step - loss: 0.3933 - letter_loss: 0.2924 - colour_loss: 0.1009 - letter_accuracy: 0.9089 - colour_mae: 0.2871 - colour_mse: 0.1009\n",
      "Epoch 43/100\n",
      "100/100 [==============================] - 38s 379ms/step - loss: 0.4097 - letter_loss: 0.3093 - colour_loss: 0.1004 - letter_accuracy: 0.9033 - colour_mae: 0.2858 - colour_mse: 0.1004\n",
      "Epoch 44/100\n",
      "100/100 [==============================] - 38s 379ms/step - loss: 0.3877 - letter_loss: 0.2865 - colour_loss: 0.1012 - letter_accuracy: 0.9092 - colour_mae: 0.2873 - colour_mse: 0.1012\n",
      "Epoch 45/100\n",
      "100/100 [==============================] - 37s 367ms/step - loss: 0.3827 - letter_loss: 0.2827 - colour_loss: 0.1000 - letter_accuracy: 0.9115 - colour_mae: 0.2860 - colour_mse: 0.1000\n",
      "Epoch 46/100\n",
      "100/100 [==============================] - 37s 374ms/step - loss: 0.3888 - letter_loss: 0.2884 - colour_loss: 0.1004 - letter_accuracy: 0.9093 - colour_mae: 0.2866 - colour_mse: 0.1004\n",
      "Epoch 47/100\n",
      "100/100 [==============================] - 37s 368ms/step - loss: 0.3969 - letter_loss: 0.2964 - colour_loss: 0.1004 - letter_accuracy: 0.9082 - colour_mae: 0.2864 - colour_mse: 0.1004\n",
      "Epoch 48/100\n",
      "100/100 [==============================] - 37s 369ms/step - loss: 0.3876 - letter_loss: 0.2861 - colour_loss: 0.1015 - letter_accuracy: 0.9077 - colour_mae: 0.2872 - colour_mse: 0.1015\n",
      "Epoch 49/100\n",
      "100/100 [==============================] - 37s 372ms/step - loss: 0.3751 - letter_loss: 0.2745 - colour_loss: 0.1006 - letter_accuracy: 0.9141 - colour_mae: 0.2865 - colour_mse: 0.1006\n",
      "Epoch 50/100\n",
      "100/100 [==============================] - 37s 371ms/step - loss: 0.3898 - letter_loss: 0.2897 - colour_loss: 0.1000 - letter_accuracy: 0.9107 - colour_mae: 0.2863 - colour_mse: 0.1000\n",
      "Epoch 51/100\n",
      "100/100 [==============================] - 38s 376ms/step - loss: 0.4057 - letter_loss: 0.3055 - colour_loss: 0.1001 - letter_accuracy: 0.9052 - colour_mae: 0.2865 - colour_mse: 0.1001\n",
      "Epoch 52/100\n",
      "100/100 [==============================] - 38s 380ms/step - loss: 0.4057 - letter_loss: 0.3051 - colour_loss: 0.1006 - letter_accuracy: 0.9061 - colour_mae: 0.2866 - colour_mse: 0.1006\n",
      "Epoch 53/100\n",
      "100/100 [==============================] - 38s 376ms/step - loss: 0.3969 - letter_loss: 0.2959 - colour_loss: 0.1010 - letter_accuracy: 0.9065 - colour_mae: 0.2873 - colour_mse: 0.1010\n",
      "Epoch 54/100\n",
      "100/100 [==============================] - 37s 374ms/step - loss: 0.3962 - letter_loss: 0.2963 - colour_loss: 0.0999 - letter_accuracy: 0.9052 - colour_mae: 0.2856 - colour_mse: 0.0999\n",
      "Epoch 55/100\n",
      "100/100 [==============================] - 37s 372ms/step - loss: 0.3668 - letter_loss: 0.2666 - colour_loss: 0.1002 - letter_accuracy: 0.9184 - colour_mae: 0.2863 - colour_mse: 0.1002\n",
      "Epoch 56/100\n",
      "100/100 [==============================] - 38s 377ms/step - loss: 0.3833 - letter_loss: 0.2831 - colour_loss: 0.1002 - letter_accuracy: 0.9157 - colour_mae: 0.2867 - colour_mse: 0.1002\n",
      "Epoch 57/100\n",
      "100/100 [==============================] - 38s 376ms/step - loss: 0.3772 - letter_loss: 0.2768 - colour_loss: 0.1004 - letter_accuracy: 0.9116 - colour_mae: 0.2856 - colour_mse: 0.1004\n",
      "Epoch 58/100\n",
      "100/100 [==============================] - 37s 371ms/step - loss: 0.4079 - letter_loss: 0.3063 - colour_loss: 0.1016 - letter_accuracy: 0.9015 - colour_mae: 0.2879 - colour_mse: 0.1016\n",
      "Epoch 59/100\n",
      "100/100 [==============================] - 37s 373ms/step - loss: 0.3851 - letter_loss: 0.2851 - colour_loss: 0.1000 - letter_accuracy: 0.9097 - colour_mae: 0.2859 - colour_mse: 0.1000\n",
      "Epoch 60/100\n",
      "100/100 [==============================] - 37s 367ms/step - loss: 0.3818 - letter_loss: 0.2816 - colour_loss: 0.1002 - letter_accuracy: 0.9150 - colour_mae: 0.2866 - colour_mse: 0.1002\n",
      "Epoch 61/100\n",
      "100/100 [==============================] - 37s 371ms/step - loss: 0.3843 - letter_loss: 0.2842 - colour_loss: 0.1001 - letter_accuracy: 0.9130 - colour_mae: 0.2863 - colour_mse: 0.1001\n",
      "Epoch 62/100\n",
      "100/100 [==============================] - 37s 367ms/step - loss: 0.3963 - letter_loss: 0.2958 - colour_loss: 0.1004 - letter_accuracy: 0.9094 - colour_mae: 0.2860 - colour_mse: 0.1004\n",
      "Epoch 63/100\n",
      "100/100 [==============================] - 37s 369ms/step - loss: 0.3928 - letter_loss: 0.2915 - colour_loss: 0.1013 - letter_accuracy: 0.9084 - colour_mae: 0.2876 - colour_mse: 0.1013\n",
      "Epoch 64/100\n",
      "100/100 [==============================] - 37s 369ms/step - loss: 0.3812 - letter_loss: 0.2815 - colour_loss: 0.0997 - letter_accuracy: 0.9143 - colour_mae: 0.2860 - colour_mse: 0.0997\n",
      "Epoch 65/100\n",
      "100/100 [==============================] - 37s 368ms/step - loss: 0.4221 - letter_loss: 0.3222 - colour_loss: 0.0999 - letter_accuracy: 0.9007 - colour_mae: 0.2864 - colour_mse: 0.0999\n",
      "Epoch 66/100\n",
      "100/100 [==============================] - 38s 376ms/step - loss: 0.3935 - letter_loss: 0.2933 - colour_loss: 0.1003 - letter_accuracy: 0.9105 - colour_mae: 0.2866 - colour_mse: 0.1003\n",
      "Epoch 67/100\n",
      "100/100 [==============================] - 38s 376ms/step - loss: 0.3983 - letter_loss: 0.2980 - colour_loss: 0.1003 - letter_accuracy: 0.9072 - colour_mae: 0.2861 - colour_mse: 0.1003\n",
      "Epoch 68/100\n",
      "100/100 [==============================] - 37s 374ms/step - loss: 0.3858 - letter_loss: 0.2849 - colour_loss: 0.1009 - letter_accuracy: 0.9100 - colour_mae: 0.2869 - colour_mse: 0.1009\n",
      "Epoch 69/100\n",
      "100/100 [==============================] - 38s 376ms/step - loss: 0.3747 - letter_loss: 0.2748 - colour_loss: 0.0999 - letter_accuracy: 0.9131 - colour_mae: 0.2861 - colour_mse: 0.0999\n",
      "Epoch 70/100\n",
      "100/100 [==============================] - 37s 375ms/step - loss: 0.3772 - letter_loss: 0.2772 - colour_loss: 0.1000 - letter_accuracy: 0.9147 - colour_mae: 0.2862 - colour_mse: 0.1000\n",
      "Epoch 71/100\n",
      "100/100 [==============================] - 38s 378ms/step - loss: 0.3845 - letter_loss: 0.2841 - colour_loss: 0.1005 - letter_accuracy: 0.9125 - colour_mae: 0.2865 - colour_mse: 0.1005\n",
      "Epoch 72/100\n",
      "100/100 [==============================] - 37s 372ms/step - loss: 0.3806 - letter_loss: 0.2797 - colour_loss: 0.1008 - letter_accuracy: 0.9136 - colour_mae: 0.2867 - colour_mse: 0.1008\n",
      "Epoch 73/100\n",
      "100/100 [==============================] - 37s 368ms/step - loss: 0.3618 - letter_loss: 0.2616 - colour_loss: 0.1002 - letter_accuracy: 0.9175 - colour_mae: 0.2863 - colour_mse: 0.1002\n",
      "Epoch 74/100\n",
      "100/100 [==============================] - 37s 373ms/step - loss: 0.3661 - letter_loss: 0.2658 - colour_loss: 0.1003 - letter_accuracy: 0.9152 - colour_mae: 0.2862 - colour_mse: 0.1003\n",
      "Epoch 75/100\n",
      "100/100 [==============================] - 38s 379ms/step - loss: 0.3768 - letter_loss: 0.2766 - colour_loss: 0.1002 - letter_accuracy: 0.9158 - colour_mae: 0.2866 - colour_mse: 0.1002\n",
      "Epoch 76/100\n",
      "100/100 [==============================] - 38s 378ms/step - loss: 0.4019 - letter_loss: 0.3016 - colour_loss: 0.1003 - letter_accuracy: 0.9077 - colour_mae: 0.2862 - colour_mse: 0.1003\n",
      "Epoch 77/100\n",
      "100/100 [==============================] - 37s 375ms/step - loss: 0.4099 - letter_loss: 0.3091 - colour_loss: 0.1007 - letter_accuracy: 0.9021 - colour_mae: 0.2871 - colour_mse: 0.1007\n",
      "Epoch 78/100\n",
      "100/100 [==============================] - 38s 382ms/step - loss: 0.3746 - letter_loss: 0.2748 - colour_loss: 0.0998 - letter_accuracy: 0.9139 - colour_mae: 0.2856 - colour_mse: 0.0998\n",
      "Epoch 79/100\n",
      "100/100 [==============================] - 37s 371ms/step - loss: 0.3579 - letter_loss: 0.2576 - colour_loss: 0.1003 - letter_accuracy: 0.9196 - colour_mae: 0.2866 - colour_mse: 0.1003\n",
      "Epoch 80/100\n",
      "100/100 [==============================] - 37s 375ms/step - loss: 0.3859 - letter_loss: 0.2859 - colour_loss: 0.1000 - letter_accuracy: 0.9153 - colour_mae: 0.2865 - colour_mse: 0.1000\n",
      "Epoch 81/100\n",
      "100/100 [==============================] - 38s 378ms/step - loss: 0.3734 - letter_loss: 0.2728 - colour_loss: 0.1006 - letter_accuracy: 0.9168 - colour_mae: 0.2860 - colour_mse: 0.1006\n",
      "Epoch 82/100\n",
      "100/100 [==============================] - 37s 369ms/step - loss: 0.3787 - letter_loss: 0.2774 - colour_loss: 0.1013 - letter_accuracy: 0.9132 - colour_mae: 0.2876 - colour_mse: 0.1013\n",
      "Epoch 83/100\n",
      "100/100 [==============================] - 37s 370ms/step - loss: 0.3652 - letter_loss: 0.2656 - colour_loss: 0.0996 - letter_accuracy: 0.9152 - colour_mae: 0.2852 - colour_mse: 0.0996\n",
      "Epoch 84/100\n",
      "100/100 [==============================] - 36s 359ms/step - loss: 0.3779 - letter_loss: 0.2777 - colour_loss: 0.1001 - letter_accuracy: 0.9155 - colour_mae: 0.2867 - colour_mse: 0.1001\n",
      "Epoch 85/100\n",
      "100/100 [==============================] - 37s 367ms/step - loss: 0.3767 - letter_loss: 0.2764 - colour_loss: 0.1002 - letter_accuracy: 0.9144 - colour_mae: 0.2864 - colour_mse: 0.1002\n",
      "Epoch 86/100\n",
      "100/100 [==============================] - 37s 367ms/step - loss: 0.3787 - letter_loss: 0.2784 - colour_loss: 0.1004 - letter_accuracy: 0.9136 - colour_mae: 0.2859 - colour_mse: 0.1004\n",
      "Epoch 87/100\n",
      "100/100 [==============================] - 36s 361ms/step - loss: 0.3833 - letter_loss: 0.2823 - colour_loss: 0.1010 - letter_accuracy: 0.9124 - colour_mae: 0.2873 - colour_mse: 0.1010\n",
      "Epoch 88/100\n",
      "100/100 [==============================] - 37s 370ms/step - loss: 0.3677 - letter_loss: 0.2680 - colour_loss: 0.0998 - letter_accuracy: 0.9172 - colour_mae: 0.2861 - colour_mse: 0.0998\n",
      "Epoch 89/100\n",
      "100/100 [==============================] - 37s 366ms/step - loss: 0.3663 - letter_loss: 0.2662 - colour_loss: 0.1000 - letter_accuracy: 0.9203 - colour_mae: 0.2865 - colour_mse: 0.1000\n",
      "Epoch 90/100\n",
      "100/100 [==============================] - 37s 371ms/step - loss: 0.3702 - letter_loss: 0.2698 - colour_loss: 0.1005 - letter_accuracy: 0.9222 - colour_mae: 0.2866 - colour_mse: 0.1005\n",
      "Epoch 91/100\n",
      "100/100 [==============================] - 38s 375ms/step - loss: 0.3733 - letter_loss: 0.2734 - colour_loss: 0.0999 - letter_accuracy: 0.9167 - colour_mae: 0.2853 - colour_mse: 0.0999\n",
      "Epoch 92/100\n",
      "100/100 [==============================] - 37s 369ms/step - loss: 0.3766 - letter_loss: 0.2758 - colour_loss: 0.1008 - letter_accuracy: 0.9136 - colour_mae: 0.2867 - colour_mse: 0.1008\n",
      "Epoch 93/100\n",
      "100/100 [==============================] - 37s 366ms/step - loss: 0.3516 - letter_loss: 0.2518 - colour_loss: 0.0998 - letter_accuracy: 0.9218 - colour_mae: 0.2859 - colour_mse: 0.0998\n",
      "Epoch 94/100\n",
      "100/100 [==============================] - 37s 373ms/step - loss: 0.3779 - letter_loss: 0.2778 - colour_loss: 0.1001 - letter_accuracy: 0.9148 - colour_mae: 0.2863 - colour_mse: 0.1001\n",
      "Epoch 95/100\n",
      "100/100 [==============================] - 37s 370ms/step - loss: 0.3807 - letter_loss: 0.2804 - colour_loss: 0.1003 - letter_accuracy: 0.9151 - colour_mae: 0.2860 - colour_mse: 0.1003\n",
      "Epoch 96/100\n",
      "100/100 [==============================] - 37s 371ms/step - loss: 0.3731 - letter_loss: 0.2719 - colour_loss: 0.1012 - letter_accuracy: 0.9126 - colour_mae: 0.2872 - colour_mse: 0.1012\n",
      "Epoch 97/100\n",
      "100/100 [==============================] - 37s 370ms/step - loss: 0.3636 - letter_loss: 0.2635 - colour_loss: 0.1001 - letter_accuracy: 0.9171 - colour_mae: 0.2861 - colour_mse: 0.1001\n",
      "Epoch 98/100\n",
      "100/100 [==============================] - 37s 366ms/step - loss: 0.3611 - letter_loss: 0.2613 - colour_loss: 0.0998 - letter_accuracy: 0.9193 - colour_mae: 0.2858 - colour_mse: 0.0998\n",
      "Epoch 99/100\n",
      "100/100 [==============================] - 37s 370ms/step - loss: 0.3653 - letter_loss: 0.2651 - colour_loss: 0.1002 - letter_accuracy: 0.9193 - colour_mae: 0.2868 - colour_mse: 0.1002\n",
      "Epoch 100/100\n",
      "100/100 [==============================] - 37s 372ms/step - loss: 0.3795 - letter_loss: 0.2791 - colour_loss: 0.1004 - letter_accuracy: 0.9145 - colour_mae: 0.2861 - colour_mse: 0.1004\n"
     ]
    },
    {
     "data": {
      "text/plain": [
       "<tensorflow.python.keras.callbacks.History at 0x2ba6210393d0>"
      ]
     },
     "execution_count": 80,
     "metadata": {},
     "output_type": "execute_result"
    }
   ],
   "source": [
    "model.fit(tf_data, epochs = 100, steps_per_epoch = 100,)"
   ]
  },
  {
   "cell_type": "code",
   "execution_count": 81,
   "metadata": {},
   "outputs": [
    {
     "name": "stdout",
     "output_type": "stream",
     "text": [
      "10/10 [==============================] - 1s 130ms/step - loss: 1.7306 - letter_loss: 1.6282 - colour_loss: 0.1024 - letter_accuracy: 0.8010 - colour_mae: 0.2902 - colour_mse: 0.1024\n"
     ]
    },
    {
     "data": {
      "text/plain": [
       "[1.7306020259857178,\n",
       " 1.6281851530075073,\n",
       " 0.10241691768169403,\n",
       " 0.8010416626930237,\n",
       " 0.29022088646888733,\n",
       " 0.10241691768169403]"
      ]
     },
     "execution_count": 81,
     "metadata": {},
     "output_type": "execute_result"
    }
   ],
   "source": [
    "model.evaluate(tf_data, steps = 10, )"
   ]
  },
  {
   "cell_type": "code",
   "execution_count": 82,
   "metadata": {},
   "outputs": [
    {
     "name": "stdout",
     "output_type": "stream",
     "text": [
      "INFO:tensorflow:Assets written to: weights/step2_basic_test.tf/assets\n"
     ]
    }
   ],
   "source": [
    "model.save(f'weights/step2_basic_test.tf', save_format = \"tf\")"
   ]
  },
  {
   "cell_type": "code",
   "execution_count": null,
   "metadata": {},
   "outputs": [],
   "source": []
  },
  {
   "cell_type": "code",
   "execution_count": null,
   "metadata": {},
   "outputs": [],
   "source": []
  },
  {
   "cell_type": "code",
   "execution_count": 84,
   "metadata": {},
   "outputs": [],
   "source": [
    "def sanitize(coords):\n",
    "    A = np.clip(coords[0],0.01,0.99)\n",
    "    B = np.clip(coords[1],0.01,0.99)\n",
    "    C = np.clip(coords[2],0.15,0.7)\n",
    "    D = np.clip(coords[3],0.15,0.7)\n",
    "    X0 = max(A - D/1, 0)\n",
    "    Y0 = max(B - C/1, 0)\n",
    "    X1 = min(A + D/1, 1)\n",
    "    Y1 = min(B + C/1, 1)\n",
    "    return X0, X1, Y0, Y1"
   ]
  },
  {
   "cell_type": "code",
   "execution_count": 86,
   "metadata": {},
   "outputs": [],
   "source": [
    "X0, X1, Y0, Y1 = sanitize([0.59549224, 0.10299957, 0.11806665, 0.11000828])"
   ]
  },
  {
   "cell_type": "code",
   "execution_count": 89,
   "metadata": {},
   "outputs": [],
   "source": [
    "from PIL import Image"
   ]
  },
  {
   "cell_type": "code",
   "execution_count": 94,
   "metadata": {},
   "outputs": [],
   "source": [
    "img = tf.image.resize(np.expand_dims(np.array(Image.open(\"../tests_chenfu/vlcsnap-2021-06-05-10h32m20s903.png\"))[int(Y0*1000):int(Y1*1000)+1, int(X0*1000):int(X1*1000)+1, :], 0),(224,224), method=\"nearest\")"
   ]
  },
  {
   "cell_type": "code",
   "execution_count": 106,
   "metadata": {},
   "outputs": [
    {
     "data": {
      "text/plain": [
       "[array([[1.00765146e-10, 4.57066120e-21, 2.12431130e-24, 6.98201461e-28,\n",
       "         1.22785446e-16, 4.54570003e-25, 4.94191096e-29, 9.99943495e-01,\n",
       "         5.59233810e-15, 1.29452247e-20, 9.71547479e-07, 2.73752665e-27,\n",
       "         9.99995470e-01, 9.78992879e-01, 2.08301582e-25, 2.99463329e-28,\n",
       "         4.73913238e-24, 3.09432951e-20, 1.07786874e-22, 8.53553356e-22,\n",
       "         1.07072188e-29, 1.57895773e-21, 9.36448414e-05, 8.75230216e-06,\n",
       "         6.48710178e-15, 2.72390563e-13, 1.19639811e-19, 1.35293954e-24,\n",
       "         3.39700531e-27, 2.42000290e-25, 1.81424981e-16, 3.32207625e-19,\n",
       "         1.90610479e-22, 1.49062702e-22, 3.31836696e-18, 3.31193941e-20]],\n",
       "       dtype=float32),\n",
       " array([[0.568361  , 0.4623148 , 0.35490787]], dtype=float32)]"
      ]
     },
     "execution_count": 106,
     "metadata": {},
     "output_type": "execute_result"
    }
   ],
   "source": [
    "model.predict(img)"
   ]
  },
  {
   "cell_type": "code",
   "execution_count": 107,
   "metadata": {},
   "outputs": [
    {
     "data": {
      "text/plain": [
       "12"
      ]
     },
     "execution_count": 107,
     "metadata": {},
     "output_type": "execute_result"
    }
   ],
   "source": [
    "np.argmax(model.predict(img)[0])"
   ]
  },
  {
   "cell_type": "code",
   "execution_count": 108,
   "metadata": {},
   "outputs": [
    {
     "data": {
      "text/plain": [
       "array([[144.93205 , 117.890274,  90.50151 ]], dtype=float32)"
      ]
     },
     "execution_count": 108,
     "metadata": {},
     "output_type": "execute_result"
    }
   ],
   "source": [
    "model.predict(img)[1]*255"
   ]
  },
  {
   "cell_type": "code",
   "execution_count": 101,
   "metadata": {},
   "outputs": [
    {
     "data": {
      "text/plain": [
       "<matplotlib.image.AxesImage at 0x2ba68f56ce20>"
      ]
     },
     "execution_count": 101,
     "metadata": {},
     "output_type": "execute_result"
    },
    {
     "data": {
      "image/png": "[encoded data removed]",
      "text/plain": [
       "<Figure size 432x288 with 1 Axes>"
      ]
     },
     "metadata": {
      "needs_background": "light"
     },
     "output_type": "display_data"
    }
   ],
   "source": [
    "import matplotlib.pyplot as plt\n",
    "plt.imshow(img.numpy().reshape(224,224,3))"
   ]
  },
  {
   "cell_type": "code",
   "execution_count": 103,
   "metadata": {},
   "outputs": [],
   "source": [
    "alphabet = 'ABCDEFGHIJKLMNOPQRSTUVWXYZ0123456789'\n",
    "# define a mapping of chars to integers\n",
    "char_to_int = dict((c, i) for i, c in enumerate(alphabet))\n",
    "int_to_char = dict((i, c) for i, c in enumerate(alphabet))"
   ]
  },
  {
   "cell_type": "code",
   "execution_count": 105,
   "metadata": {},
   "outputs": [
    {
     "data": {
      "text/plain": [
       "'M'"
      ]
     },
     "execution_count": 105,
     "metadata": {},
     "output_type": "execute_result"
    }
   ],
   "source": [
    "int_to_char[12]"
   ]
  },
  {
   "cell_type": "code",
   "execution_count": null,
   "metadata": {},
   "outputs": [],
   "source": []
  }
 ],
 "metadata": {
  "kernelspec": {
   "display_name": "Python 3",
   "language": "python",
   "name": "python3"
  },
  "language_info": {
   "codemirror_mode": {
    "name": "ipython",
    "version": 3
   },
   "file_extension": ".py",
   "mimetype": "text/x-python",
   "name": "python",
   "nbconvert_exporter": "python",
   "pygments_lexer": "ipython3",
   "version": "3.8.8"
  }
 },
 "nbformat": 4,
 "nbformat_minor": 4
}
