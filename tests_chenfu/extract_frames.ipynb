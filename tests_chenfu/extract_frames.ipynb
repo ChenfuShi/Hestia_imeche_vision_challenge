{
 "cells": [
  {
   "cell_type": "code",
   "execution_count": 1,
   "metadata": {},
   "outputs": [],
   "source": [
    "import cv2\n",
    "count = 0\n",
    "for file in [\"birch_real_1.mp4\",\"birch_real_2.mp4\",\"birch_real_3.mp4\",\"birch_real_4.mp4\",\"birch_real_5.mp4\"]:\n",
    "    vidcap = cv2.VideoCapture(f'../recording_buttons/{file}')\n",
    "    success,image = vidcap.read()\n",
    "    while success:\n",
    "        cv2.imwrite(f\"../data/raw_frames/frame_birch_real_{count}.jpeg\", image)     # save frame      \n",
    "        success,image = vidcap.read()\n",
    "        count += 1"
   ]
  },
  {
   "cell_type": "code",
   "execution_count": null,
   "metadata": {},
   "outputs": [],
   "source": []
  }
 ],
 "metadata": {
  "kernelspec": {
   "display_name": "Python 3",
   "language": "python",
   "name": "python3"
  },
  "language_info": {
   "codemirror_mode": {
    "name": "ipython",
    "version": 3
   },
   "file_extension": ".py",
   "mimetype": "text/x-python",
   "name": "python",
   "nbconvert_exporter": "python",
   "pygments_lexer": "ipython3",
   "version": "3.7.8"
  }
 },
 "nbformat": 4,
 "nbformat_minor": 4
}
